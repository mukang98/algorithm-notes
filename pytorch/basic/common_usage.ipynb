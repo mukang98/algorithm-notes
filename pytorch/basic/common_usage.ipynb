{
 "cells": [
  {
   "cell_type": "markdown",
   "metadata": {},
   "source": [
    "## 1. torch.where\n",
    "#### 用法一：torch.where 筛选不等于特定值的索引"
   ]
  },
  {
   "cell_type": "code",
   "execution_count": 2,
   "metadata": {},
   "outputs": [
    {
     "data": {
      "text/plain": [
       "tensor([0, 1, 2, 4])"
      ]
     },
     "execution_count": 2,
     "metadata": {},
     "output_type": "execute_result"
    }
   ],
   "source": [
    "import torch\n",
    "target = torch.tensor([3,5,7,-100,6])\n",
    "ignore_index = -100\n",
    "# 得到 target 中不等于 ignore_index 的索引\n",
    "indices = torch.where(target != ignore_index)[0]\n"
   ]
  },
  {
   "cell_type": "markdown",
   "metadata": {},
   "source": [
    "- 解释：torch.where(condition)[0] 用于筛选符合条件的索引，这里我们只提取符合条件的第一个维度的索引。\n",
    "- 应用场景：可以用来找到特定条件下的元素位置，便于进一步操作。"
   ]
  },
  {
   "cell_type": "markdown",
   "metadata": {},
   "source": [
    "#### 用法二：torch.where 根据条件更改张量的值"
   ]
  },
  {
   "cell_type": "code",
   "execution_count": 5,
   "metadata": {},
   "outputs": [
    {
     "data": {
      "text/plain": [
       "tensor([100, 100,   1,   1])"
      ]
     },
     "execution_count": 5,
     "metadata": {},
     "output_type": "execute_result"
    }
   ],
   "source": [
    "# 将 a 中不等于 3 的元素替换为 1，等于 3 的元素替换为 100\n",
    "a = torch.tensor([3,3,5,7])\n",
    "c = torch.where(a != 3, torch.tensor(1), torch.tensor(100))\n",
    "c\n"
   ]
  },
  {
   "cell_type": "markdown",
   "metadata": {},
   "source": [
    "- 解释：torch.where(condition, x, y) 根据条件选择值。若条件 condition 为真，则选 x，否则选 y。\n",
    "- 应用场景：可以用来在同一张量中对不同条件的元素进行不同的赋值操作。"
   ]
  },
  {
   "cell_type": "markdown",
   "metadata": {},
   "source": [
    "## 2. torch.gather<br>\n",
    "torch.gather 截取特定索引的数据"
   ]
  },
  {
   "cell_type": "code",
   "execution_count": 3,
   "metadata": {},
   "outputs": [
    {
     "data": {
      "text/plain": [
       "tensor([3, 5])"
      ]
     },
     "execution_count": 3,
     "metadata": {},
     "output_type": "execute_result"
    }
   ],
   "source": [
    "# 沿着 0 维，从 target 中根据 index_target 索引获取数据\n",
    "target = torch.tensor([3,5,7,-100,6])\n",
    "index_target = torch.tensor([0])\n",
    "result = torch.gather(target, 0, index_target)\n",
    "result2 = target[index_target]\n",
    "result2"
   ]
  },
  {
   "cell_type": "markdown",
   "metadata": {},
   "source": [
    "- 解释：torch.gather(input, dim, index) 按照指定的索引 index 从 input 中提取数据。dim 指定沿哪个维度进行操作。\n",
    "- 应用场景：可以用来根据索引从张量中提取特定位置的数据，适用于需要根据索引重新排列或抽取数据的场景。"
   ]
  }
 ],
 "metadata": {
  "kernelspec": {
   "display_name": "Python 3",
   "language": "python",
   "name": "python3"
  },
  "language_info": {
   "codemirror_mode": {
    "name": "ipython",
    "version": 3
   },
   "file_extension": ".py",
   "mimetype": "text/x-python",
   "name": "python",
   "nbconvert_exporter": "python",
   "pygments_lexer": "ipython3",
   "version": "3.10.11"
  }
 },
 "nbformat": 4,
 "nbformat_minor": 2
}
