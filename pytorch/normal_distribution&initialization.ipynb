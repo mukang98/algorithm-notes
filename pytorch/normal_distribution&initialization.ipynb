{
 "cells": [
  {
   "cell_type": "markdown",
   "metadata": {},
   "source": [
    "## 1. 正态分布随机生成\n",
    "在 PyTorch 中，可以使用 torch.normal 和 torch.randn 来生成正态分布的随机数。<br>其中 torch.normal(mean, std, size) 用于生成指定均值和标准差的正态分布，torch.randn 用于生成标准正态分布（均值为 0，标准差为 1）的随机数。"
   ]
  },
  {
   "cell_type": "code",
   "execution_count": null,
   "metadata": {},
   "outputs": [],
   "source": [
    "import torch\n",
    "\n",
    "# 定义 num_examples 和 w\n",
    "num_examples = 5\n",
    "w = [0.5, -0.2, 0.3]  # 这里假设 w 是一个长度为 3 的列表，表示 3 个特征\n",
    "\n",
    "# 生成均值为 0，标准差为 1 的正态分布随机矩阵，形状为 (num_examples, len(w))\n",
    "X = torch.normal(0, 1, (num_examples, len(w)))\n",
    "print(X)\n",
    "\n",
    "# 使用 torch.randn 生成一个 3x2 的标准正态分布随机矩阵\n",
    "X = torch.randn(3, 2)\n",
    "print(X)\n",
    "\n"
   ]
  },
  {
   "cell_type": "markdown",
   "metadata": {},
   "source": [
    "\n",
    "## 2. 手写高斯分布公式\n",
    "有时候，我们可以手动实现高斯分布（正态分布），公式如下：$p(x) = \\frac{1}{\\sqrt{2\\pi\\sigma^2}} e^{-\\frac{(x - \\mu)^2}{2\\sigma^2}}$\n"
   ]
  },
  {
   "cell_type": "code",
   "execution_count": null,
   "metadata": {},
   "outputs": [],
   "source": [
    "import torch\n",
    "import matplotlib.pyplot as plt\n",
    "\n",
    "# 手动实现高斯分布\n",
    "def gaussian_distribution(x, mu, sigma):\n",
    "    # 将 sigma 转换为张量，以确保 sqrt 函数正确运行\n",
    "    sigma = torch.tensor(sigma)  \n",
    "    p = 1 / torch.sqrt(2 * torch.pi * sigma**2)\n",
    "    return p * torch.exp(-0.5 / sigma**2 * (x - mu)**2)\n",
    "\n",
    "# 示例：生成正态分布的随机数据并计算概率密度\n",
    "mu = 0  # 均值\n",
    "sigma = 1  # 标准差\n",
    "x = torch.linspace(-5, 5, 100)  # 生成从-5到5的100个点\n",
    "y = gaussian_distribution(x, mu, sigma)  # 计算对应的高斯分布概率密度\n",
    "\n",
    "# 可视化结果\n",
    "plt.plot(x.numpy(), y.numpy(), label=f'μ={mu}, σ={sigma}')\n",
    "plt.title('Gaussian Distribution')\n",
    "plt.xlabel('x')\n",
    "plt.ylabel('Probability Density')\n",
    "plt.legend()\n",
    "plt.show()"
   ]
  },
  {
   "cell_type": "markdown",
   "metadata": {},
   "source": [
    "## 3. 容易混淆的函数\n",
    "在 PyTorch 中，生成随机数和随机排列有多种方法，下面是一些容易混淆的函数："
   ]
  },
  {
   "cell_type": "code",
   "execution_count": 10,
   "metadata": {},
   "outputs": [
    {
     "name": "stdout",
     "output_type": "stream",
     "text": [
      "整数随机矩阵:\n",
      " tensor([[2, 8, 5],\n",
      "        [3, 7, 9],\n",
      "        [9, 4, 5]])\n",
      "均匀分布随机矩阵:\n",
      " tensor([[0.9035, 0.7460, 0.1593],\n",
      "        [0.8438, 0.7729, 0.2883],\n",
      "        [0.0739, 0.0377, 0.1250]])\n",
      "随机排列:\n",
      " tensor([ 7,  5,  2,  8,  0,  1,  6,  9,  3,  4, 10])\n"
     ]
    }
   ],
   "source": [
    "import torch\n",
    "\n",
    "# 生成一个 3x3 的整数随机矩阵，值范围为 [0, 10)\n",
    "x = torch.randint(0, 10, (3, 3))\n",
    "print(\"整数随机矩阵:\\n\", x)\n",
    "\n",
    "# 生成一个 3x3 的均匀分布随机矩阵，范围为 [0, 1)\n",
    "x = torch.rand(3, 3)\n",
    "print(\"均匀分布随机矩阵:\\n\", x)\n",
    "\n",
    "# 生成一个 0 到 10 的随机排列\n",
    "x = torch.randperm(11)\n",
    "print(\"随机排列:\\n\", x)\n"
   ]
  }
 ],
 "metadata": {
  "kernelspec": {
   "display_name": "Python 3",
   "language": "python",
   "name": "python3"
  },
  "language_info": {
   "codemirror_mode": {
    "name": "ipython",
    "version": 3
   },
   "file_extension": ".py",
   "mimetype": "text/x-python",
   "name": "python",
   "nbconvert_exporter": "python",
   "pygments_lexer": "ipython3",
   "version": "3.10.11"
  }
 },
 "nbformat": 4,
 "nbformat_minor": 2
}
