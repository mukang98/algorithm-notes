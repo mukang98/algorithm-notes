{
 "cells": [
  {
   "cell_type": "markdown",
   "metadata": {},
   "source": [
    "# 路径操作与模块导入总结<br>\n",
    "### 1. os.path.dirname(path)\n",
    "- 功能：返回指定路径的目录部分<br>\n",
    "- 用途：常用于获取文件所在的目录或向上移动目录层级。\n",
    "- 用法："
   ]
  },
  {
   "cell_type": "code",
   "execution_count": null,
   "metadata": {},
   "outputs": [],
   "source": [
    "import os\n",
    "directory = os.path.dirname('/home/user/project/file.py')\n",
    "directory\n",
    "# 输出：'/home/user/project'\n"
   ]
  },
  {
   "cell_type": "markdown",
   "metadata": {},
   "source": [
    "### 2. os.path.abspath(path)\n",
    "- 功能：将给定的路径转换为绝对路径。\n",
    "- 用途：在处理相对路径时，确保路径为绝对路径，避免跨平台问题。\n",
    "- 用法："
   ]
  },
  {
   "cell_type": "code",
   "execution_count": null,
   "metadata": {},
   "outputs": [],
   "source": [
    "absolute_path = os.path.abspath('file.py')\n",
    "# 输出：当前工作目录的绝对路径 + 'file.py'\n"
   ]
  },
  {
   "cell_type": "markdown",
   "metadata": {},
   "source": [
    "### 3. os.path.join(path, *paths)\n",
    "- 功能：将一个或多个路径拼接成一个完整路径。\n",
    "- 用途：拼接路径时确保使用正确的路径分隔符，跨平台兼容。\n",
    "- 用法："
   ]
  },
  {
   "cell_type": "code",
   "execution_count": null,
   "metadata": {},
   "outputs": [],
   "source": [
    "path = os.path.join('/home/user', 'project', 'file.py')\n",
    "# 输出：'/home/user/project/file.py'\n",
    "path"
   ]
  },
  {
   "cell_type": "markdown",
   "metadata": {},
   "source": [
    "### 4. sys.path\n",
    "- 功能：sys.path 是 Python 模块搜索路径的列表。Python 在导入模块时，会按照 sys.path 的顺序进行查找。\n",
    "- 用途：解决自定义模块的导入问题，确保项目根目录或其他自定义目录在模块搜索路径中。\n",
    "- 用法："
   ]
  },
  {
   "cell_type": "code",
   "execution_count": null,
   "metadata": {},
   "outputs": [],
   "source": [
    "import sys\n",
    "sys.path.append('/path/to/project_root')\n",
    "# 添加项目根目录到模块搜索路径\n"
   ]
  },
  {
   "cell_type": "markdown",
   "metadata": {},
   "source": [
    "### 5. pathlib.Path 的现代化路径操作\n",
    "pathlib 是 Python 3 的新路径操作库，比 os.path 更加简洁和直观。\n",
    "- 用途：Path 对象可以轻松操作路径的各个部分，支持跨平台，并且代码更具可读性。\n",
    "- 用法"
   ]
  },
  {
   "cell_type": "code",
   "execution_count": null,
   "metadata": {},
   "outputs": [],
   "source": [
    "import sys\n",
    "from pathlib import Path\n",
    "\n",
    "# 获取当前脚本的路径\n",
    "current_file = Path(__file__)\n",
    "\n",
    "# 获取项目根目录（向上两级）\n",
    "project_root = current_file.parents[2]\n",
    "\n",
    "# 将项目根目录添加到 sys.path\n",
    "sys.path.append(str(project_root))\n",
    "\n"
   ]
  },
  {
   "cell_type": "markdown",
   "metadata": {},
   "source": [
    "### 示例：动态计算路径并导入模块\n",
    "假设项目的文件结构如下：<br>\n",
    "<pre>\n",
    "project/\n",
    "│\n",
    "├── src/\n",
    "│   ├── module1/\n",
    "│   │   └── script1.py\n",
    "│   └── subdir/\n",
    "│       └── subsubdir/\n",
    "│           └── script2.py  # 你在这个文件中需要引用 module1/script1.py\n",
    "└── main.py\n",
    "</pre>\n",
    "#### 具体步骤：<br>\n",
    "- 获取当前脚本的路径。<br>\n",
    "- 通过相对路径回溯到 src/ 目录。<br>\n",
    "- 根据回溯路径构建 module1 的绝对路径。<br>\n",
    "- 将 module1 的路径添加到 sys.path 中，进行导入。<br>\n",
    "\n"
   ]
  },
  {
   "cell_type": "markdown",
   "metadata": {},
   "source": [
    "假设 subsubdir/script2.py 想引用 module1/script1.py："
   ]
  },
  {
   "cell_type": "code",
   "execution_count": null,
   "metadata": {},
   "outputs": [],
   "source": [
    "import os\n",
    "import sys\n",
    "\n",
    "# 获取当前文件（subsubdir/script2.py）的绝对路径\n",
    "current_dir = os.path.dirname(os.path.abspath(__file__))\n",
    " \n",
    "# 获取 src 目录的绝对路径，向上回溯两级，进入 src 目录\n",
    "src_dir = os.path.abspath(os.path.join(current_dir, '..', '..', '..'))  # 通过 '..' 跳回到 src 目录\n",
    "\n",
    "# 获取 module1 目录的绝对路径\n",
    "module1_path = os.path.join(src_dir, 'module1')\n",
    "\n",
    "# 将 module1 的路径加入 sys.path\n",
    "sys.path.append(module1_path)\n",
    "\n",
    "# 现在可以从 module1 导入 script1\n",
    "from script1 import some_function\n"
   ]
  }
 ],
 "metadata": {
  "kernelspec": {
   "display_name": "Python 3",
   "language": "python",
   "name": "python3"
  },
  "language_info": {
   "codemirror_mode": {
    "name": "ipython",
    "version": 3
   },
   "file_extension": ".py",
   "mimetype": "text/x-python",
   "name": "python",
   "nbconvert_exporter": "python",
   "pygments_lexer": "ipython3",
   "version": "3.10.11"
  }
 },
 "nbformat": 4,
 "nbformat_minor": 2
}
