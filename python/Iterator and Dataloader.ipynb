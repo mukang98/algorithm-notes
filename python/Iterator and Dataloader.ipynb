{
 "cells": [
  {
   "cell_type": "markdown",
   "metadata": {},
   "source": [
    "## 1. Iterator\n",
    "Iterator 是一种在不一次性将所有数据加载到内存中的情况下，通过按需生成数据逐步迭代访问集合元素的对象。"
   ]
  },
  {
   "cell_type": "code",
   "execution_count": 1,
   "metadata": {},
   "outputs": [
    {
     "name": "stdout",
     "output_type": "stream",
     "text": [
      "1\n",
      "2\n",
      "3\n",
      "4\n"
     ]
    }
   ],
   "source": [
    "class MyIterator:\n",
    "    def __init__(self, data):\n",
    "        self.data = data\n",
    "        self.index = 0\n",
    "\n",
    "    def __iter__(self):\n",
    "        # 返回迭代器对象，通常是 self\n",
    "        return self\n",
    "\n",
    "    def __next__(self):\n",
    "        # 返回下一个元素，或者引发 StopIteration 异常\n",
    "        if self.index < len(self.data):\n",
    "            result = self.data[self.index]\n",
    "            self.index += 1\n",
    "            return result\n",
    "        else:\n",
    "            raise StopIteration\n",
    "\n",
    "# 使用 MyIterator 类创建迭代器\n",
    "my_iterator = MyIterator([1, 2, 3, 4])\n",
    "\n",
    "# 使用 for 循环迭代对象\n",
    "for element in my_iterator:\n",
    "    print(element)"
   ]
  },
  {
   "cell_type": "markdown",
   "metadata": {},
   "source": [
    "# 2. Dataloeader\n",
    "\n",
    "DataLoader 是 PyTorch 中用于批量加载数据的工具，能够高效地按批次、打乱顺序、并行地从数据集加载数据以进行深度学习模型的训练和评估。"
   ]
  },
  {
   "cell_type": "code",
   "execution_count": 2,
   "metadata": {},
   "outputs": [
    {
     "name": "stdout",
     "output_type": "stream",
     "text": [
      "tensor([4, 2])\n",
      "tensor([3, 1])\n"
     ]
    }
   ],
   "source": [
    "from torch.utils.data import Dataset, DataLoader\n",
    "\n",
    "class MyDataset(Dataset):\n",
    "    def __init__(self, data):\n",
    "        self.data = data\n",
    "\n",
    "    def __len__(self):\n",
    "        return len(self.data)\n",
    "\n",
    "    def __getitem__(self, index):\n",
    "        return self.data[index]\n",
    "\n",
    "# 创建 DataLoader\n",
    "dataset = MyDataset([1, 2, 3, 4])\n",
    "dataloader = DataLoader(dataset, batch_size=2, shuffle=True)\n",
    "\n",
    "for batch in dataloader:\n",
    "    print(batch)\n"
   ]
  },
  {
   "cell_type": "markdown",
   "metadata": {},
   "source": [
    "| 特性          | Python 迭代器                  | PyTorch `DataLoader`         |\n",
    "| ------------- | ------------------------------ | ---------------------------- |\n",
    "| 适用场景      | 普通数据迭代                   | 深度学习数据加载              |\n",
    "| 核心方法      | `__iter__`, `__next__`          | `__len__`, `__getitem__`      |\n",
    "| 是否批处理    | 否                             | 是                            |\n",
    "| 数据打乱      | 需手动实现                     | 支持自动打乱                  |\n",
    "| 并行加载      | 否                             | 支持多进程并行                |\n"
   ]
  }
 ],
 "metadata": {
  "kernelspec": {
   "display_name": "Python 3",
   "language": "python",
   "name": "python3"
  },
  "language_info": {
   "codemirror_mode": {
    "name": "ipython",
    "version": 3
   },
   "file_extension": ".py",
   "mimetype": "text/x-python",
   "name": "python",
   "nbconvert_exporter": "python",
   "pygments_lexer": "ipython3",
   "version": "3.10.11"
  }
 },
 "nbformat": 4,
 "nbformat_minor": 2
}
