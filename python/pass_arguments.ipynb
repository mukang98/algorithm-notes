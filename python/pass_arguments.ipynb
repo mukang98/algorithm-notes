{
 "cells": [
  {
   "cell_type": "markdown",
   "metadata": {},
   "source": [
    "## Python脚本传参"
   ]
  },
  {
   "cell_type": "markdown",
   "metadata": {},
   "source": [
    "### 1. 通过sys.argv实现\n"
   ]
  },
  {
   "cell_type": "code",
   "execution_count": null,
   "metadata": {},
   "outputs": [],
   "source": [
    "import sys\n",
    "if __name__ == '__main__':\n",
    "    assert len(sys.argv) == 3\n",
    "    arg_1 = sys.argv[1]\n",
    "    arg_2 = sys.argv[2]\n"
   ]
  },
  {
   "cell_type": "markdown",
   "metadata": {},
   "source": [
    "### 2. 通过argparse 实现"
   ]
  },
  {
   "cell_type": "code",
   "execution_count": null,
   "metadata": {},
   "outputs": [],
   "source": [
    "import argparse\n",
    "\n",
    "# 创建一个参数解析器对象\n",
    "parser = argparse.ArgumentParser()\n",
    "\n",
    "# 添加 --date 参数，用于指定项目执行日期\n",
    "# 默认为 \"20220109\"，类型为字符串，且为必填项\n",
    "parser.add_argument(\"--date\",\n",
    "                    default=\"20220109\",\n",
    "                    type=str,\n",
    "                    required=True,\n",
    "                    help=\"项目执行日期\")\n",
    "\n",
    "# 添加 --minio_name 参数，用于指定数据集的 minio 前缀\n",
    "# 默认为空字符串，类型为字符串，且为必填项\n",
    "parser.add_argument(\"--minio_name\",\n",
    "                    default=\"\",\n",
    "                    type=str,\n",
    "                    required=True,\n",
    "                    help=\"数据集minio前缀\")\n",
    "\n",
    "if __name__ == '__main__':\n",
    "    # 解析命令行参数并赋值给 ARGS 变量\n",
    "    ARGS = parser.parse_args()\n",
    "    \n",
    "    # 使用解析后的 date 和 minio_name 参数\n",
    "    execution_date = ARGS.date  # 项目执行日期\n",
    "    minio_prefix = ARGS.minio_name  # 数据集的 minio 前缀\n",
    "\n",
    "#调用脚本例子：python project_script.py --date 20231104 --minio_name \"dataset_prefix\" \n",
    "\n",
    "    \n",
    "\t\t"
   ]
  }
 ],
 "metadata": {
  "language_info": {
   "name": "python"
  }
 },
 "nbformat": 4,
 "nbformat_minor": 2
}
