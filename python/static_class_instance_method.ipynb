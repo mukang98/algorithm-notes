{
 "cells": [
  {
   "cell_type": "markdown",
   "metadata": {},
   "source": [
    "## 静态方法/类方法/实例方法"
   ]
  },
  {
   "cell_type": "markdown",
   "metadata": {},
   "source": [
    "### 1.静态方法\n",
    "实例方法：某一个方法需要访问到对象的实例属性。\n",
    "- 实例方法的第一个参数通常是self，表示实例本身。"
   ]
  },
  {
   "cell_type": "code",
   "execution_count": 2,
   "metadata": {},
   "outputs": [
    {
     "name": "stdout",
     "output_type": "stream",
     "text": [
      "My name is Alice\n",
      "My name is Bob\n",
      "My name is Charlie\n"
     ]
    }
   ],
   "source": [
    "class Person:\n",
    "    def __init__(self, name):\n",
    "        self.name = name  # 实例属性，用于存储每个实例的名字\n",
    "\n",
    "    def say_name(self):\n",
    "        print(f\"My name is {self.name}\")  # 访问实例属性并打印名字\n",
    "\n",
    "\n",
    "# 应用示例\n",
    "if __name__ == \"__main__\":\n",
    "    # 创建几个 Person 实例\n",
    "    person1 = Person(\"Alice\")\n",
    "    person2 = Person(\"Bob\")\n",
    "    person3 = Person(\"Charlie\")\n",
    "\n",
    "    # 调用 say_name 方法，输出每个实例的名字\n",
    "    person1.say_name()  # 输出: My name is Alice\n",
    "    person2.say_name()  # 输出: My name is Bob\n",
    "    person3.say_name()  # 输出: My name is Charlie\n",
    "\n"
   ]
  },
  {
   "cell_type": "markdown",
   "metadata": {},
   "source": [
    "## 2. 类方法\n",
    "类方法：@classmethod如果某一个方法不需要访问对象的实例属性，但是需要访问到类的类属性。\n",
    "\n",
    "- 类方法的第一个参数通常是cls，表示类本身。"
   ]
  },
  {
   "cell_type": "code",
   "execution_count": 1,
   "metadata": {},
   "outputs": [
    {
     "name": "stdout",
     "output_type": "stream",
     "text": [
      "当前创建的 Person 实例数量: 3\n",
      "当前创建的 Person 实例数量: 4\n"
     ]
    }
   ],
   "source": [
    "class Person:\n",
    "    count = 0  # 类属性，用于计数\n",
    "\n",
    "    def __init__(self, name):\n",
    "        self.name = name\n",
    "        Person.increment_count()  # 每次创建实例时调用类方法，增加计数\n",
    "\n",
    "    @classmethod\n",
    "    def increment_count(cls):\n",
    "        cls.count += 1  # 增加类属性 count 的值\n",
    "\n",
    "    @classmethod\n",
    "    def get_count(cls):\n",
    "        return cls.count  # 返回类属性 count 的值\n",
    "\n",
    "\n",
    "# 应用示例\n",
    "if __name__ == \"__main__\":\n",
    "    # 创建几个 Person 实例\n",
    "    person1 = Person(\"Alice\")\n",
    "    person2 = Person(\"Bob\")\n",
    "    person3 = Person(\"Charlie\")\n",
    "\n",
    "    # 输出当前已创建的 Person 实例数量\n",
    "    print(f\"当前创建的 Person 实例数量: {Person.get_count()}\")  # 输出: 当前创建的 Person 实例数量: 3\n",
    "\n",
    "    # 创建更多的实例\n",
    "    person4 = Person(\"David\")\n",
    "    \n",
    "    # 再次输出当前的实例数量\n",
    "    print(f\"当前创建的 Person 实例数量: {Person.get_count()}\")  # 输出: 当前创建的 Person 实例数量: 4\n",
    "\n"
   ]
  },
  {
   "cell_type": "markdown",
   "metadata": {},
   "source": [
    "### 3. 静态方法\n",
    "静态方法：@staticmethod既不需要访问到对象的实例属性，也不需要访问类的类属性。它们通常用于封装一些与类或实例无关的辅助功能。\n",
    "\n",
    "- 静态方法不接受self或cls作为参数。"
   ]
  },
  {
   "cell_type": "code",
   "execution_count": null,
   "metadata": {},
   "outputs": [],
   "source": [
    "class MathUtils:\n",
    "    @staticmethod\n",
    "    def add_numbers(a, b):\n",
    "        return a + b  # 不访问任何实例或类属性\n",
    "\n",
    "    @staticmethod\n",
    "    def multiply_numbers(a, b):\n",
    "        return a * b  # 不访问任何实例或类属性\n",
    "\n",
    "\n",
    "# 应用示例\n",
    "if __name__ == \"__main__\":\n",
    "    # 使用静态方法进行加法运算\n",
    "    result_add = MathUtils.add_numbers(10, 5)\n",
    "    print(f\"10 + 5 = {result_add}\")  # 输出: 10 + 5 = 15\n",
    "\n",
    "    # 使用静态方法进行乘法运算\n",
    "    result_multiply = MathUtils.multiply_numbers(10, 5)\n",
    "    print(f\"10 * 5 = {result_multiply}\")  # 输出: 10 * 5 = 50\n"
   ]
  }
 ],
 "metadata": {
  "kernelspec": {
   "display_name": "Python 3",
   "language": "python",
   "name": "python3"
  },
  "language_info": {
   "codemirror_mode": {
    "name": "ipython",
    "version": 3
   },
   "file_extension": ".py",
   "mimetype": "text/x-python",
   "name": "python",
   "nbconvert_exporter": "python",
   "pygments_lexer": "ipython3",
   "version": "3.10.11"
  }
 },
 "nbformat": 4,
 "nbformat_minor": 2
}
